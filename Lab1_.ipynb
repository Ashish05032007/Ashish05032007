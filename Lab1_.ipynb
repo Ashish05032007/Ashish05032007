{
  "nbformat": 4,
  "nbformat_minor": 0,
  "metadata": {
    "colab": {
      "provenance": [],
      "authorship_tag": "ABX9TyMqq07RF78X6lPZVafJrBif",
      "include_colab_link": true
    },
    "kernelspec": {
      "name": "python3",
      "display_name": "Python 3"
    },
    "language_info": {
      "name": "python"
    }
  },
  "cells": [
    {
      "cell_type": "markdown",
      "metadata": {
        "id": "view-in-github",
        "colab_type": "text"
      },
      "source": [
        "<a href=\"https://colab.research.google.com/github/Ashish05032007/Ashish05032007/blob/main/Lab1_.ipynb\" target=\"_parent\"><img src=\"https://colab.research.google.com/assets/colab-badge.svg\" alt=\"Open In Colab\"/></a>"
      ]
    },
    {
      "cell_type": "code",
      "source": [
        "LAB-1(12-09-2025)"
      ],
      "metadata": {
        "id": "26WrlHkKcFXE"
      },
      "execution_count": null,
      "outputs": []
    },
    {
      "cell_type": "markdown",
      "source": [
        "Q1). Swapping two variable without any third variable"
      ],
      "metadata": {
        "id": "AO5JKPTccT7l"
      }
    },
    {
      "cell_type": "code",
      "execution_count": null,
      "metadata": {
        "colab": {
          "base_uri": "https://localhost:8080/"
        },
        "id": "rGhu_fPvb9As",
        "outputId": "0a39ece8-ce55-4583-88c7-2fe23d85a888"
      },
      "outputs": [
        {
          "output_type": "stream",
          "name": "stdout",
          "text": [
            "a: 6\n",
            "b: 5\n",
            "\n",
            "\n",
            "After Swapping:\n",
            "\n",
            "a: 5\n",
            "b: 6\n"
          ]
        }
      ],
      "source": [
        "a=6\n",
        "b=5\n",
        "print(\"a:\",a)\n",
        "print(\"b:\", b)\n",
        "\n",
        "print(\"\\n\")\n",
        "\n",
        "a,b=b,a\n",
        "\n",
        "print(\"After Swapping:\\n\")\n",
        "\n",
        "print(\"a:\",a)\n",
        "print(\"b:\", b)\n"
      ]
    },
    {
      "cell_type": "markdown",
      "source": [
        "Q2).Create a program to compute students marks, grade classification as:\n",
        "marks>=90:A grade,\n",
        "marks(80-89):B grade,\n",
        "marks(70-79):C grade,\n",
        "marks(60-69):D grade,\n",
        "marks <=60:fail"
      ],
      "metadata": {
        "id": "W8OZUZRNdg8D"
      }
    },
    {
      "cell_type": "code",
      "source": [
        "x=int(input(\"enter your marks:\"))\n",
        "\n",
        "if x>=90:\n",
        "  print(\"Grade:A\")\n",
        "elif x>=80 and x<=89:\n",
        "  print(\"Grade:B\")\n",
        "elif x>=70 and x<=79:\n",
        "  print(\"Grade:C\")\n",
        "elif x>=60 and x<=69:\n",
        "  print(\"grade:D\")\n",
        "else:\n",
        "  print(\"Fail\")\n"
      ],
      "metadata": {
        "colab": {
          "base_uri": "https://localhost:8080/"
        },
        "id": "DAg212L-eOST",
        "outputId": "14d51ed8-bb75-4b9e-9cc3-8eb009f9c584"
      },
      "execution_count": null,
      "outputs": [
        {
          "output_type": "stream",
          "name": "stdout",
          "text": [
            "enter your marks:65\n",
            "grade:D\n"
          ]
        }
      ]
    },
    {
      "cell_type": "markdown",
      "source": [
        "Q3). Write a program the area and parameter of a rectangle for given length and breadth"
      ],
      "metadata": {
        "id": "CNDoS37teOf0"
      }
    },
    {
      "cell_type": "code",
      "source": [
        "l=45\n",
        "b=3\n",
        "\n",
        "A=l*b\n",
        "P=2*(l+b)\n",
        "\n",
        "print(\"Area:\",A)\n",
        "print(\"Perimeter:\",P)\n"
      ],
      "metadata": {
        "colab": {
          "base_uri": "https://localhost:8080/"
        },
        "id": "TRJDaSCAhWeO",
        "outputId": "ad3545b6-636f-4384-af83-40a4ad4acc9d"
      },
      "execution_count": null,
      "outputs": [
        {
          "output_type": "stream",
          "name": "stdout",
          "text": [
            "Area: 135\n",
            "Perimeter: 96\n"
          ]
        }
      ]
    },
    {
      "cell_type": "markdown",
      "source": [
        "Q4).Input two complex number and display their sum, diffrence and product"
      ],
      "metadata": {
        "id": "OXYXSx5ahu90"
      }
    },
    {
      "cell_type": "code",
      "source": [
        "c1=4+6j\n",
        "c2=2-3j\n",
        "\n",
        "print(\"sum:\",c1+c2)\n",
        "print(\"difference\", c1-c2)\n",
        "print(\"product\", c1*c2)"
      ],
      "metadata": {
        "colab": {
          "base_uri": "https://localhost:8080/"
        },
        "id": "W81e1nosiO23",
        "outputId": "eae14cbf-f016-4687-88b0-6b8781358808"
      },
      "execution_count": null,
      "outputs": [
        {
          "output_type": "stream",
          "name": "stdout",
          "text": [
            "sum: (6+3j)\n",
            "difference (2+9j)\n",
            "product (26+0j)\n"
          ]
        }
      ]
    },
    {
      "cell_type": "markdown",
      "source": [
        "Q5) convert temprature from celcius to farenheit and vice versa."
      ],
      "metadata": {
        "id": "JfdU5uveixDc"
      }
    },
    {
      "cell_type": "code",
      "source": [
        "t_celcius=32\n",
        "t_farenheit=9*(t_celcius)/5+32\n",
        "\n",
        "print(t_celcius,\"degree celcius=\",t_farenheit,\"degree farenheit\")\n",
        "\n",
        "t_farenheit=98\n",
        "t_celcius=(t_farenheit-32)*5/9\n",
        "\n",
        "print(t_farenheit,\"degree*F=\",t_celcius,\"degree celcius\")\n",
        "\n"
      ],
      "metadata": {
        "colab": {
          "base_uri": "https://localhost:8080/"
        },
        "id": "nczaFv1qi4Cy",
        "outputId": "b8376625-eb36-481d-b581-04898e2738dd"
      },
      "execution_count": null,
      "outputs": [
        {
          "output_type": "stream",
          "name": "stdout",
          "text": [
            "32 degree celcius= 89.6 degree farenheit\n",
            "98 degree*F= 36.666666666666664 degree celcius\n"
          ]
        }
      ]
    },
    {
      "cell_type": "markdown",
      "source": [
        "q6). Make a calculator"
      ],
      "metadata": {
        "id": "mpVj6CKMl5Cd"
      }
    },
    {
      "cell_type": "code",
      "source": [
        "a=20\n",
        "b=30\n",
        "\n",
        "print(\"Sum=\", a+b)\n",
        "print(\"Difference\", a-b)\n",
        "print(\"product\", a*b)\n",
        "print(\"Divison\", a/b)\n",
        "print(\"Remainder:\", a%b)"
      ],
      "metadata": {
        "colab": {
          "base_uri": "https://localhost:8080/"
        },
        "id": "g8SuAc_LmRUi",
        "outputId": "f06e504d-51f4-4e16-9b42-1d67b754a703"
      },
      "execution_count": null,
      "outputs": [
        {
          "output_type": "stream",
          "name": "stdout",
          "text": [
            "Sum= 50\n",
            "Difference -10\n",
            "product 600\n",
            "Divison 0.6666666666666666\n",
            "Remainder: 20\n"
          ]
        }
      ]
    },
    {
      "cell_type": "markdown",
      "source": [
        "Q7).Print a fibonacci series"
      ],
      "metadata": {
        "id": "HmxML4w9muCn"
      }
    },
    {
      "cell_type": "code",
      "source": [
        "n1=0\n",
        "n2=1\n",
        "\n",
        "print(n1,n2)\n",
        "\n",
        "for i in range(5):\n",
        "   n=n1+n2\n",
        "   print(n)\n",
        "   #asign new n1 and n2 at each looping\n",
        "   n1=n2\n",
        "   n2=n\n"
      ],
      "metadata": {
        "colab": {
          "base_uri": "https://localhost:8080/"
        },
        "id": "dBzFRq8Xm5q1",
        "outputId": "939d43ba-0fcd-4632-bb43-c324e728ad6c"
      },
      "execution_count": null,
      "outputs": [
        {
          "output_type": "stream",
          "name": "stdout",
          "text": [
            "0 1\n",
            "1\n",
            "2\n",
            "3\n",
            "5\n",
            "8\n"
          ]
        }
      ]
    },
    {
      "cell_type": "markdown",
      "source": [
        "Q8). Write a program to check whether a given number is prime or not"
      ],
      "metadata": {
        "id": "vQYFop_Qovx9"
      }
    },
    {
      "cell_type": "code",
      "source": [
        "a=9\n",
        "n=0\n",
        "\n",
        "for i in range(1,a+1):\n",
        "  if a%i==0:\n",
        "    n=n+1#counting the no of factors\n",
        "\n",
        "if n==2:print(\"prime\")\n",
        "else: print(\"Not prime\")\n"
      ],
      "metadata": {
        "colab": {
          "base_uri": "https://localhost:8080/"
        },
        "id": "dP1KMndQo-pi",
        "outputId": "90bc483f-a634-473d-a6e4-99154e1a96d9"
      },
      "execution_count": null,
      "outputs": [
        {
          "output_type": "stream",
          "name": "stdout",
          "text": [
            "Not prime\n"
          ]
        }
      ]
    },
    {
      "cell_type": "markdown",
      "source": [
        "Q9).Write a program to calculate factorial of number"
      ],
      "metadata": {
        "id": "R0s4f0tFtWaD"
      }
    },
    {
      "cell_type": "code",
      "source": [
        "x=5\n",
        "\n",
        "fact_n=1\n",
        "\n",
        "for i in range (1,x+1):\n",
        "  fact_n*=i\n",
        "\n",
        "print(fact_n)"
      ],
      "metadata": {
        "colab": {
          "base_uri": "https://localhost:8080/"
        },
        "id": "01CH683ytea6",
        "outputId": "d5b02805-bfa5-4d1f-c96f-768bbe992d32"
      },
      "execution_count": 8,
      "outputs": [
        {
          "output_type": "stream",
          "name": "stdout",
          "text": [
            "120\n"
          ]
        }
      ]
    },
    {
      "cell_type": "markdown",
      "source": [
        "Q10). Find the second largest number in a list"
      ],
      "metadata": {
        "id": "hW-rxK5B6Bya"
      }
    },
    {
      "cell_type": "code",
      "source": [
        "def second_largest(nums):\n",
        "    first = second = float('-inf')\n",
        "    for num in nums:\n",
        "        if num > first:\n",
        "            second, first = first, num\n",
        "        elif first > num > second:\n",
        "            second = num\n",
        "    return second if second != float('-inf') else None\n",
        "num=[1,2,3,4]\n",
        "second_largest(num)"
      ],
      "metadata": {
        "colab": {
          "base_uri": "https://localhost:8080/"
        },
        "id": "gl08b3S06Gej",
        "outputId": "c1356481-b8bc-40a7-88fb-eea1aadf1b72"
      },
      "execution_count": 9,
      "outputs": [
        {
          "output_type": "execute_result",
          "data": {
            "text/plain": [
              "3"
            ]
          },
          "metadata": {},
          "execution_count": 9
        }
      ]
    },
    {
      "cell_type": "code",
      "source": [
        "nums = [3, 7, 2, 9]\n",
        "first = second = float('-inf')#'-inf' represent minus infinity in Python\n",
        "for num in nums:\n",
        "    if num > first:\n",
        "        second, first = first, num\n",
        "    elif num > second and num != first:\n",
        "        second = num\n",
        "print(\"Second largest:\", second)  # Output: 7"
      ],
      "metadata": {
        "id": "QKrNbeBt7nD5"
      },
      "execution_count": null,
      "outputs": []
    },
    {
      "cell_type": "markdown",
      "source": [
        "Q11). We need to count the number of words using split function"
      ],
      "metadata": {
        "id": "qfRNw4xyNRNB"
      }
    },
    {
      "cell_type": "code",
      "source": [
        "text = \"Verilog simulation is running smoothly\"\n",
        "words = text.split()\n",
        "print(words)\n",
        "words = text.split('m')#Generally it splits the array around the spaces but we can give a specific value as well\n",
        "print(words)\n",
        "word_count = len(words)\n",
        "print(\"Number of words:\", word_count)"
      ],
      "metadata": {
        "colab": {
          "base_uri": "https://localhost:8080/"
        },
        "id": "pDeReWK5Nd5U",
        "outputId": "b4501c4b-eaf1-4a07-bb30-2ed411048126"
      },
      "execution_count": 16,
      "outputs": [
        {
          "output_type": "stream",
          "name": "stdout",
          "text": [
            "['Verilog', 'simulation', 'is', 'running', 'smoothly']\n",
            "['Verilog si', 'ulation is running s', 'oothly']\n",
            "Number of words: 3\n"
          ]
        }
      ]
    },
    {
      "cell_type": "markdown",
      "source": [
        "Q12).In an AC circuit the total impedence z of a series RLC ciruit is given by z=r+(omegaL-(1/omegaC))j.Task is to calculate the impedence as a complex number and also return its magnitude and phase angle(in degrees).Given, r=100,C=100e^-6, l=0.5,omega=2*math.pie*f,f=50hz(use library math)"
      ],
      "metadata": {
        "id": "ugWl0QGdPJXD"
      }
    },
    {
      "cell_type": "code",
      "source": [
        "import math\n",
        "import cmath\n",
        "\n",
        "# Constants\n",
        "r = 100                      # Resistance in ohms\n",
        "C = 100e-6                   # Capacitance in farads\n",
        "L = 0.5                      # Inductance in henrys\n",
        "f = 50                      # Frequency in Hz\n",
        "omega = 2 * math.pi * f     # Angular frequency\n",
        "\n",
        "# Reactance components\n",
        "X_L = omega * L\n",
        "X_C = 1 / (omega * C)\n",
        "imag_part = X_L - X_C\n",
        "\n",
        "# Complex impedance\n",
        "Z = complex(r, imag_part)#complex([real[, imag]])\n",
        "\n",
        "\n",
        "# Magnitude of impedance\n",
        "magnitude = abs(Z)\n",
        "\n",
        "# Phase angle in degrees\n",
        "phase_angle = math.degrees(cmath.phase(Z))\n",
        "\n",
        "# Output\n",
        "print(\"Impedance (Z):\", Z)\n",
        "print(\"Magnitude:\", magnitude)\n",
        "print(\"Phase angle (degrees):\", phase_angle)"
      ],
      "metadata": {
        "id": "EnUimiD9OYJJ"
      },
      "execution_count": 15,
      "outputs": []
    }
  ]
}