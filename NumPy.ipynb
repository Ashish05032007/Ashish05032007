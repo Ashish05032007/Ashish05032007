{
  "cells": [
    {
      "cell_type": "markdown",
      "metadata": {
        "id": "view-in-github",
        "colab_type": "text"
      },
      "source": [
        "<a href=\"https://colab.research.google.com/github/Ashish05032007/Ashish05032007/blob/main/NumPy.ipynb\" target=\"_parent\"><img src=\"https://colab.research.google.com/assets/colab-badge.svg\" alt=\"Open In Colab\"/></a>"
      ]
    },
    {
      "cell_type": "markdown",
      "metadata": {
        "id": "TGN1EEq5zB1c"
      },
      "source": [
        "**Importing Numpy**"
      ]
    },
    {
      "cell_type": "code",
      "execution_count": null,
      "metadata": {
        "id": "cBQJkNBErA4O"
      },
      "outputs": [],
      "source": [
        "import numpy as np"
      ]
    },
    {
      "cell_type": "markdown",
      "metadata": {
        "id": "s5o2pj-PrazH"
      },
      "source": [
        "**Creating** Array from List"
      ]
    },
    {
      "cell_type": "code",
      "execution_count": null,
      "metadata": {
        "colab": {
          "base_uri": "https://localhost:8080/"
        },
        "id": "5KCwxeVNrfB8",
        "outputId": "6cc9fb03-b813-4b01-b6a6-b35eb92c3dff"
      },
      "outputs": [
        {
          "name": "stdout",
          "output_type": "stream",
          "text": [
            "1D array:  [1 2 3 4 5]\n",
            "2D array:  [[1 2 3]\n",
            " [4 5 6]]\n"
          ]
        }
      ],
      "source": [
        "arr_1d=np.array([1,2,3,4,5])\n",
        "print(\"1D array: \",arr_1d)\n",
        "arr_2d=np.array([[1,2,3],[4,5,6]])\n",
        "print(\"2D array: \",arr_2d)#we only add single array as argument"
      ]
    },
    {
      "cell_type": "markdown",
      "metadata": {
        "id": "UYkb6bg0s8cX"
      },
      "source": [
        "**List vs numpy array**"
      ]
    },
    {
      "cell_type": "code",
      "execution_count": null,
      "metadata": {
        "colab": {
          "base_uri": "https://localhost:8080/"
        },
        "id": "SdSfahaatBXq",
        "outputId": "46fec264-cf14-4dd7-d15e-5cf2a3df1204"
      },
      "outputs": [
        {
          "name": "stdout",
          "output_type": "stream",
          "text": [
            "Python List Multiplication [1, 2, 3, 1, 2, 3]\n",
            "Python Array Multiplication [2 4 6]\n",
            "\n",
            " Numpy operation time: 0.011434793472290039\n"
          ]
        }
      ],
      "source": [
        "py_list=[1,2,3]\n",
        "print(\"Python List Multiplication\", py_list*2)#List multiplication duplicates the entire list. It's a form of repetition, not element-wise arithmetic\n",
        "\n",
        "np_array=np.array([1,2,3])\n",
        "print(\"Python Array Multiplication\", np_array*2)#\n",
        "\n",
        "import time\n",
        "\n",
        "start=time.time()\n",
        "np_array=np.arange(1000000)*2#np.arange is a NumPy function that\n",
        "# creates a NumPy array with evenly spaced values within a specified interval. It's similar to Python's built-in range() function but returns an array instead of a list.\n",
        "print(\"\\n Numpy operation time:\", time.time()-start)\n"
      ]
    },
    {
      "cell_type": "markdown",
      "metadata": {
        "id": "SPMnXC9fjV_U"
      },
      "source": [
        "**Creatin array from Scratch**"
      ]
    },
    {
      "cell_type": "code",
      "execution_count": null,
      "metadata": {
        "colab": {
          "base_uri": "https://localhost:8080/"
        },
        "id": "KR1FOz2TjaZx",
        "outputId": "61d0946c-b931-4a6a-f768-67d57b1e1fe1"
      },
      "outputs": [
        {
          "name": "stdout",
          "output_type": "stream",
          "text": [
            "\n",
            " zero array:\n",
            " [[0. 0. 0. 0.]\n",
            " [0. 0. 0. 0.]\n",
            " [0. 0. 0. 0.]]\n",
            "\n",
            " ones array\n",
            " [[1. 1. 1.]\n",
            " [1. 1. 1.]]\n",
            "\n",
            " full array\n",
            " [[7 7]\n",
            " [7 7]]\n",
            "\n",
            "Random array\n",
            " [[0.8551954  0.92461622 0.30522771]\n",
            " [0.24487983 0.31701037 0.17878269]]\n",
            "\n",
            " sequence array\n",
            " [0 2 4 6 8]\n"
          ]
        }
      ],
      "source": [
        "zero=np.zeros((3,4))#(row,column isthe argument)\n",
        "print(\"\\n zero array:\\n\", zero)\n",
        "\n",
        "ones=np.ones((2,3))\n",
        "print(\"\\n ones array\\n\", ones)\\\n",
        "\n",
        "#constant array\n",
        "\n",
        "full=np.full((2,2), 7)# argument is ((dimension),value of constant)\n",
        "print(\"\\n full array\\n\", full)\n",
        "\n",
        "random=np.random.random((2,3))\n",
        "print(\"\\nRandom array\\n\", random)# random values lies between 0 and 1\n",
        "\n",
        "sequence=np.arange(0,10,2)# in Python range's outer boundary is non-exclusive.\n",
        "print(\"\\n sequence array\\n\", sequence)\n"
      ]
    },
    {
      "cell_type": "markdown",
      "metadata": {
        "id": "E6XmPcZRdT8A"
      },
      "source": [
        "***Vector, Matrix and Tensor***"
      ]
    },
    {
      "cell_type": "code",
      "execution_count": null,
      "metadata": {
        "colab": {
          "base_uri": "https://localhost:8080/"
        },
        "id": "jNIziAEodZLk",
        "outputId": "c2508c8f-3cbc-4950-dd18-3f391aeddb2d"
      },
      "outputs": [
        {
          "output_type": "stream",
          "name": "stdout",
          "text": [
            "vector: [1 2 3]\n",
            "Matrix [[1 2 3]\n",
            " [4 5 6]]\n",
            "tensor: [[[1 2]\n",
            "  [2 3]]\n",
            "\n",
            " [[4 5]\n",
            "  [6 7]]]\n"
          ]
        }
      ],
      "source": [
        "vector=np.array([1,2,3])\n",
        "print(\"vector:\",vector)\n",
        "\n",
        "matrix=np.array([[1,2,3],\n",
        "                [4,5,6]])\n",
        "print(\"Matrix\", matrix)\n",
        "\n",
        "tensor=np.array([\n",
        "                 [[1,2],[2,3]],\n",
        "                 [[4,5],[6,7]]\n",
        "                 ])\n",
        "\n",
        "print(\"tensor:\",tensor)"
      ]
    },
    {
      "cell_type": "markdown",
      "metadata": {
        "id": "4janB8KMe7A-"
      },
      "source": [
        "**Array Properties**"
      ]
    },
    {
      "cell_type": "code",
      "execution_count": null,
      "metadata": {
        "colab": {
          "base_uri": "https://localhost:8080/"
        },
        "id": "GGbXnQ6Xe-X3",
        "outputId": "8eac9cd1-2864-45af-aa67-94514609143d"
      },
      "outputs": [
        {
          "name": "stdout",
          "output_type": "stream",
          "text": [
            "Shape (2, 3)\n",
            "dimension 2\n",
            "size 6\n",
            "datatype int64\n"
          ]
        }
      ],
      "source": [
        "arr=np.array([[1,2,3],\n",
        "              [4,5,6]])\n",
        "print(\"Shape\",arr.shape)\n",
        "print(\"dimension\",arr.ndim)\n",
        "print(\"size\",arr.size)\n",
        "print(\"datatype\", arr.dtype)\n",
        "\n",
        "arr=np.array([[1,2,3],\n",
        "              [4,5,True]])# different datatype can be put in array but recommend to use single data-type\n",
        "print(\"Shape\",arr.shape)\n",
        "print(\"dimension\",arr.ndim)\n",
        "print(\"size\",arr.size)\n",
        "print(\"datatype\", arr.dtype)\n"
      ]
    },
    {
      "cell_type": "markdown",
      "metadata": {
        "id": "XdWfaJc8fwnf"
      },
      "source": [
        "**Array Reshaping**"
      ]
    },
    {
      "cell_type": "code",
      "execution_count": null,
      "metadata": {
        "colab": {
          "base_uri": "https://localhost:8080/"
        },
        "id": "IcUp4PyQfzZG",
        "outputId": "55ec1b5b-e66d-4b0d-bf70-3d0ff3a3e7b1"
      },
      "outputs": [
        {
          "name": "stdout",
          "output_type": "stream",
          "text": [
            "Original array [ 0  1  2  3  4  5  6  7  8  9 10 11]\n",
            "Reshaped array [[ 0  1  2  3]\n",
            " [ 4  5  6  7]\n",
            " [ 8  9 10 11]]\n",
            "flattened array [ 0  1  2  3  4  5  6  7  8  9 10 11]\n",
            "ravelled array [ 0  1  2  3  4  5  6  7  8  9 10 11]\n",
            "Transposed array [[ 0  4  8]\n",
            " [ 1  5  9]\n",
            " [ 2  6 10]\n",
            " [ 3  7 11]]\n"
          ]
        }
      ],
      "source": [
        "arr=np.arange(12)\n",
        "print(\"Original array\", arr)\n",
        "\n",
        "reshaped=arr.reshape((3,4))\n",
        "print(\"Reshaped array\", reshaped)\n",
        "\n",
        "flattened=reshaped.flatten()\n",
        "print(\"flattened array\", flattened)\n",
        "\n",
        "raveled=reshaped.ravel()\n",
        "print(\"ravelled array\", raveled)# ravel returns view instead of copy\n",
        "\n",
        "#Transpose of a matrix\n",
        "transpose=reshaped.T\n",
        "print(\"Transposed array\", transpose)"
      ]
    },
    {
      "cell_type": "markdown",
      "metadata": {
        "id": "GbOeNNyRn7m5"
      },
      "source": [
        "**NUMPY ARRY OPERATIONS**"
      ]
    },
    {
      "cell_type": "code",
      "execution_count": null,
      "metadata": {
        "colab": {
          "base_uri": "https://localhost:8080/"
        },
        "id": "TnTHjFYkn_vW",
        "outputId": "e8d3c853-e7aa-41eb-f3e5-92d1001a7b5a"
      },
      "outputs": [
        {
          "name": "stdout",
          "output_type": "stream",
          "text": [
            "Slicing [3 4 5 6 7]\n",
            "With step [2 4 6 8]\n",
            "Negative indexing 7\n",
            "specific element 9\n",
            "entire row [4 5 6]\n",
            "entire column [2 5 8]\n"
          ]
        }
      ],
      "source": [
        "arr=np.array([1,2,3,4,5,6,7,8,9])\n",
        "print(\"Slicing\",arr[2:7])\n",
        "print(\"With step\", arr[1:8:2])\n",
        "print(\"Negative indexing\", arr[-3])\n",
        "\n",
        "arr_2d=np.array([[1,2,3],\n",
        "                 [4,5,6],\n",
        "                 [7,8,9]])\n",
        "\n",
        "print(\"specific element\", arr_2d[2,2])\n",
        "print(\"entire row\", arr_2d[1])\n",
        "print(\"entire column\", arr_2d[:,1])"
      ]
    },
    {
      "cell_type": "markdown",
      "metadata": {
        "id": "DWVD_eYRrl42"
      },
      "source": [
        "**SORTING**"
      ]
    },
    {
      "cell_type": "code",
      "execution_count": null,
      "metadata": {
        "colab": {
          "base_uri": "https://localhost:8080/"
        },
        "id": "xPorGTUsroaL",
        "outputId": "ee8e84ea-6f9a-446b-9249-23fa760e855e"
      },
      "outputs": [
        {
          "name": "stdout",
          "output_type": "stream",
          "text": [
            "Sorted array [1 1 2 3 4 5 6 9]\n",
            "Sorted 2d array by column [[1 3]\n",
            " [1 2]\n",
            " [2 3]]\n"
          ]
        }
      ],
      "source": [
        "unsorted=np.array([3,1,4,1,5,9,2,6])\n",
        "print(\"Sorted array\", np.sort(unsorted))\n",
        "\n",
        "array_2d_unsorted=np.array([[3,1],[1,2],[2,3]])\n",
        "#print(\"Sorted 2d array by column\", np.sort(array_2d_unsorted, axis=0))#sort top to bottom\n",
        "print(\"Sorted 2d array by column\", np.sort(array_2d_unsorted, axis=1))#sort left to right"
      ]
    },
    {
      "cell_type": "markdown",
      "metadata": {
        "id": "ghs49AcuyNgj"
      },
      "source": [
        "**FILTERING**"
      ]
    },
    {
      "cell_type": "code",
      "execution_count": null,
      "metadata": {
        "colab": {
          "base_uri": "https://localhost:8080/"
        },
        "id": "lWMJgh1pyP2u",
        "outputId": "019b668f-7d7d-4f25-ae08-e825114f055a"
      },
      "outputs": [
        {
          "name": "stdout",
          "output_type": "stream",
          "text": [
            "Even: [ 2  4  6  8 10]\n"
          ]
        }
      ],
      "source": [
        "numbers=np.array([1,2,3,4,5,6,7,8,9,10])\n",
        "even_numbers=numbers[numbers%2==0]\n",
        "print(\"Even:\", even_numbers)"
      ]
    },
    {
      "cell_type": "markdown",
      "metadata": {
        "id": "yNKkjCaxy4OR"
      },
      "source": [
        "**Filter with mask**"
      ]
    },
    {
      "cell_type": "code",
      "execution_count": null,
      "metadata": {
        "id": "ZdrU85Jpy7f8",
        "colab": {
          "base_uri": "https://localhost:8080/"
        },
        "outputId": "11e22424-185f-4678-fe6a-4182118bd71e"
      },
      "outputs": [
        {
          "output_type": "stream",
          "name": "stdout",
          "text": [
            "number greater than 5 [ 6  7  8  9 10]\n"
          ]
        }
      ],
      "source": [
        "numbers=np.array([1,2,3,4,5,6,7,8,9,10])\n",
        "mask=numbers>5\n",
        "\n",
        "print(\"number greater than 5:\", numbers[mask])"
      ]
    },
    {
      "cell_type": "markdown",
      "source": [
        "**FANCY INDEXING VS NP.WHERE()**"
      ],
      "metadata": {
        "id": "HpPHcn3LvfoN"
      }
    },
    {
      "cell_type": "code",
      "source": [
        "numbers=np.array([1,2,3,4,5,6,7,8,9,10])\n",
        "indices=[0,2,4]\n",
        "print(numbers[indices])\n",
        "\n",
        "where_result=np.where(numbers>5)\n",
        "print(where_result)\n",
        "print(\"NP where\",numbers[where_result])"
      ],
      "metadata": {
        "colab": {
          "base_uri": "https://localhost:8080/"
        },
        "id": "mNLIX3SpvqIt",
        "outputId": "be24ff98-9999-4c36-e247-75dbfd42fec4"
      },
      "execution_count": null,
      "outputs": [
        {
          "output_type": "stream",
          "name": "stdout",
          "text": [
            "[1 3 5]\n",
            "(array([5, 6, 7, 8, 9]),)\n",
            "NP where [ 6  7  8  9 10]\n"
          ]
        }
      ]
    },
    {
      "cell_type": "markdown",
      "source": [
        "**CONDITION ARRAY**"
      ],
      "metadata": {
        "id": "b0IK55VYww2_"
      }
    },
    {
      "cell_type": "code",
      "source": [
        "numbers=np.array([1,2,3,4,5,6,7,8,9,10])\n",
        "condition_array=np.where(numbers>5,numbers, numbers)\n",
        "print(condition_array)"
      ],
      "metadata": {
        "colab": {
          "base_uri": "https://localhost:8080/"
        },
        "outputId": "75eab8ac-1232-4dbc-b04c-346b1b3a7e60",
        "id": "VHB6EqiH1FpP"
      },
      "execution_count": null,
      "outputs": [
        {
          "output_type": "stream",
          "name": "stdout",
          "text": [
            "[ 1  2  3  4  5  6  7  8  9 10]\n"
          ]
        }
      ]
    },
    {
      "cell_type": "code",
      "source": [],
      "metadata": {
        "id": "Y_N19fkB1IK0"
      },
      "execution_count": null,
      "outputs": []
    },
    {
      "cell_type": "code",
      "source": [
        "numbers=np.array([1,2,3,4,5,6,7,8,9,10])\n",
        "#condition_array=np.where(numbers>5,numbers84, numbers)\n",
        "#condition_array=np.where(numbers>5,numbers, numbers)\n",
        "condition_array=np.where(numbers>5,\"true\", \"false\")\n",
        "print(condition_array)"
      ],
      "metadata": {
        "colab": {
          "base_uri": "https://localhost:8080/"
        },
        "id": "8AH6J7eAw0K3",
        "outputId": "5feab9da-9429-437b-f0d4-e0386cb6a1c5"
      },
      "execution_count": null,
      "outputs": [
        {
          "output_type": "stream",
          "name": "stdout",
          "text": [
            "['false' 'false' 'false' 'false' 'false' 'true' 'true' 'true' 'true'\n",
            " 'true']\n"
          ]
        }
      ]
    },
    {
      "cell_type": "markdown",
      "source": [
        "**ADDING AND REMOVING DATA**"
      ],
      "metadata": {
        "id": "yiNk5QWcmrkC"
      }
    },
    {
      "cell_type": "code",
      "source": [
        "arr1=np.array([1,2,3])\n",
        "arr2=np.array([4,5,6])\n",
        "merged_array_wrong=arr1+arr2\n",
        "print(merged_array_wrong)#this is wrong method to concatenate array\n",
        "\n",
        "merged_array_right=np.concatenate((arr1,arr2))# array1 and array2 are passed to argument of concatenate as tuple\n",
        "print(merged_array_right)\n",
        "\n",
        "\n",
        "\n",
        "\n"
      ],
      "metadata": {
        "colab": {
          "base_uri": "https://localhost:8080/"
        },
        "id": "P65iOfay0ZyG",
        "outputId": "343fd9ef-f8d9-4f7b-f8a8-8c0788ce2b9c"
      },
      "execution_count": null,
      "outputs": [
        {
          "output_type": "stream",
          "name": "stdout",
          "text": [
            "[5 7 9]\n",
            "[1 2 3 4 5 6]\n"
          ]
        }
      ]
    },
    {
      "cell_type": "markdown",
      "source": [
        "**ARRAY COMPATABILITY**"
      ],
      "metadata": {
        "id": "fWnmJb5cz5QG"
      }
    },
    {
      "cell_type": "code",
      "source": [
        "a=np.array([1,2,3])\n",
        "b=np.array([4,5,6])\n",
        "c=np.array([7,8,9,10])\n",
        "\n",
        "print(\"Compatibilty Shapes: \", a.shape==b.shape)#outputs true\n",
        "print(\"Compatibilty Shapes: \", a.shape==c.shape)#outputs false\n",
        "\n"
      ],
      "metadata": {
        "colab": {
          "base_uri": "https://localhost:8080/"
        },
        "id": "16q6SHv7sGY3",
        "outputId": "dc5e81f9-27b5-4819-a6ba-35b0fffb696a"
      },
      "execution_count": null,
      "outputs": [
        {
          "output_type": "stream",
          "name": "stdout",
          "text": [
            "Compatibilty Shapes:  True\n"
          ]
        }
      ]
    },
    {
      "cell_type": "markdown",
      "source": [
        "**ADDING ROWS AND COLUMN**"
      ],
      "metadata": {
        "id": "QT_Z90DLwCC1"
      }
    },
    {
      "cell_type": "code",
      "source": [
        "original = np.array([[1, 2], [2, 3], [3, 4]])  # Shape: (3, 2)\n",
        "print(\"Original:\\n\", original, \"\\n\")\n",
        "\n",
        "\n",
        "new_row = np.array([[5, 6]])                  # Shape: (1, 2)\n",
        "with_the_row = np.vstack((original, new_row)) # Works fine, shape becomes (4, 2)\n",
        "print(\"After adding new row:\\n\", with_the_row, \"\\n\")\n",
        "\n",
        "\n",
        "#new_col = np.array([[7], [9]])                # Shape: (2, 1)\n",
        "#with_the_col = np.hstack((original, new_col)) # ❌ This will raise a ValueError\n",
        "\n",
        "new_col = np.array([[7], [8], [9]])  # Now shape is (3, 1)\n",
        "with_the_col = np.hstack((original, new_col))\n",
        "print(\"After adding new column:\\n\", with_the_col)\n",
        "\n",
        "\n",
        "\n"
      ],
      "metadata": {
        "colab": {
          "base_uri": "https://localhost:8080/"
        },
        "id": "FBZXZLw7wGL1",
        "outputId": "c051481b-8d60-422d-8cf6-07783ece490c"
      },
      "execution_count": null,
      "outputs": [
        {
          "output_type": "stream",
          "name": "stdout",
          "text": [
            "Original:\n",
            " [[1 2]\n",
            " [2 3]\n",
            " [3 4]] \n",
            "\n",
            "After adding new row:\n",
            " [[1 2]\n",
            " [2 3]\n",
            " [3 4]\n",
            " [5 6]] \n",
            "\n",
            "After adding new column:\n",
            " [[1 2 7]\n",
            " [2 3 8]\n",
            " [3 4 9]]\n"
          ]
        }
      ]
    },
    {
      "cell_type": "markdown",
      "source": [
        "**DELETING ARRAY**"
      ],
      "metadata": {
        "id": "KGEoB4-y1Bm1"
      }
    },
    {
      "cell_type": "code",
      "source": [
        "arr=np.array([1,2,3])\n",
        "deleted=np.delete(arr,2)\n",
        "print(deleted)#return array after deletion"
      ],
      "metadata": {
        "colab": {
          "base_uri": "https://localhost:8080/"
        },
        "id": "Fb9R8T-H1Eu5",
        "outputId": "fcedafdd-259a-44a0-84e7-178f3b4a8519"
      },
      "execution_count": null,
      "outputs": [
        {
          "output_type": "stream",
          "name": "stdout",
          "text": [
            "[1 2]\n"
          ]
        }
      ]
    }
  ],
  "metadata": {
    "colab": {
      "provenance": [],
      "authorship_tag": "ABX9TyNaTsZv8vL/uJ7B3gndaCSc",
      "include_colab_link": true
    },
    "kernelspec": {
      "display_name": "Python 3",
      "name": "python3"
    },
    "language_info": {
      "name": "python"
    }
  },
  "nbformat": 4,
  "nbformat_minor": 0
}