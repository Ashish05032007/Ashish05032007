{
  "cells": [
    {
      "cell_type": "markdown",
      "metadata": {
        "id": "view-in-github",
        "colab_type": "text"
      },
      "source": [
        "<a href=\"https://colab.research.google.com/github/Ashish05032007/Ashish05032007/blob/main/Unit1_AvengersofPython.ipynb\" target=\"_parent\"><img src=\"https://colab.research.google.com/assets/colab-badge.svg\" alt=\"Open In Colab\"/></a>"
      ]
    },
    {
      "cell_type": "markdown",
      "metadata": {
        "id": "t5uJ4BXLh8cN"
      },
      "source": [
        "Print in Python"
      ]
    },
    {
      "cell_type": "code",
      "execution_count": null,
      "metadata": {
        "colab": {
          "base_uri": "https://localhost:8080/"
        },
        "id": "ZSAkKoqUeW2O",
        "outputId": "18f4a85a-8a68-4c63-fa39-5a03e38416af"
      },
      "outputs": [
        {
          "output_type": "stream",
          "name": "stdout",
          "text": [
            "Natwar Tiwari\n"
          ]
        }
      ],
      "source": [
        "print(\"Natwar Tiwari\")"
      ]
    },
    {
      "cell_type": "markdown",
      "metadata": {
        "id": "WvKK7bEyhz0E"
      },
      "source": [
        "Assigning the variable"
      ]
    },
    {
      "cell_type": "code",
      "execution_count": null,
      "metadata": {
        "colab": {
          "base_uri": "https://localhost:8080/"
        },
        "id": "sbNVtA-lfJqc",
        "outputId": "f8f8618b-8054-4840-89d4-9f4afac514a2"
      },
      "outputs": [
        {
          "output_type": "stream",
          "name": "stdout",
          "text": [
            "9\n"
          ]
        }
      ],
      "source": [
        "Thor_score=9\n",
        "print(Thor_score)"
      ]
    },
    {
      "cell_type": "code",
      "execution_count": null,
      "metadata": {
        "colab": {
          "base_uri": "https://localhost:8080/"
        },
        "id": "kpIy6NU4f8_I",
        "outputId": "b81b2235-4a0a-474e-f0d2-57512c51e3fc"
      },
      "outputs": [
        {
          "output_type": "stream",
          "name": "stdout",
          "text": [
            "8\n"
          ]
        }
      ],
      "source": [
        "Hulk_score=8\n",
        "print(Hulk_score)"
      ]
    },
    {
      "cell_type": "markdown",
      "metadata": {
        "id": "9T-bS1U_hr2o"
      },
      "source": [
        "**Swapping** the variable values"
      ]
    },
    {
      "cell_type": "code",
      "execution_count": null,
      "metadata": {
        "colab": {
          "base_uri": "https://localhost:8080/"
        },
        "id": "ii3Yt-W1gGAk",
        "outputId": "1cb2085b-e381-4e32-8af2-1d8408ecb201"
      },
      "outputs": [
        {
          "output_type": "stream",
          "name": "stdout",
          "text": [
            "8\n",
            "9\n"
          ]
        }
      ],
      "source": [
        "Thor_score,Hulk_score=Hulk_score,Thor_score\n",
        "print(Thor_score)\n",
        "print(Hulk_score)"
      ]
    },
    {
      "cell_type": "markdown",
      "metadata": {
        "id": "6tUtIJlMiCHR"
      },
      "source": [
        "Typecasting of variables"
      ]
    },
    {
      "cell_type": "code",
      "execution_count": null,
      "metadata": {
        "colab": {
          "base_uri": "https://localhost:8080/"
        },
        "id": "lIVW0BZMmk88",
        "outputId": "ee4836b0-6bae-4026-ce74-b8c63a6f4536"
      },
      "outputs": [
        {
          "output_type": "stream",
          "name": "stdout",
          "text": [
            "8.0\n",
            "<class 'float'>\n"
          ]
        }
      ],
      "source": [
        "thor_score_flt=float(Thor_score)\n",
        "print(thor_score_flt)\n",
        "print(type(thor_score_flt))"
      ]
    },
    {
      "cell_type": "markdown",
      "metadata": {
        "id": "71EsH_7MoewO"
      },
      "source": [
        "**QUESTIONS**"
      ]
    },
    {
      "cell_type": "markdown",
      "metadata": {
        "id": "FjB8ZsnDnhX6"
      },
      "source": [
        "a).Hulks strength level is recorded as a string input \"1000\" convert it into an integer and increase it by 200.\n",
        "b).Dr Strange record the time in second but accidently input in the form of string.The value is 3600. Convert it into integer and then into hours\n",
        "c).Loki recorded 7 hits out of 10 shots both in integers.Convert  them into float and calculate the accuracy percentage"
      ]
    },
    {
      "cell_type": "code",
      "execution_count": null,
      "metadata": {
        "colab": {
          "base_uri": "https://localhost:8080/"
        },
        "id": "-aClgbwRnwGU",
        "outputId": "d963971a-eb3a-48b6-f8a6-75f5b12ffcaa"
      },
      "outputs": [
        {
          "output_type": "stream",
          "name": "stdout",
          "text": [
            "1200\n",
            "1.0\n",
            "loki's accuracy:70.00%\n"
          ]
        }
      ],
      "source": [
        "Hulk_strength=\"1000\"\n",
        "hulk_pow=int(Hulk_strength)\n",
        "hulk_new=hulk_pow+200\n",
        "print(hulk_new)\n",
        "\n",
        "Strange_sec=\"3600\"\n",
        "prop_rec=int(Strange_sec)\n",
        "rec_hours=prop_rec/3600\n",
        "print(rec_hours)\n",
        "\n",
        "Loki_hits=7\n",
        "loki_shots=10\n",
        "loki_hits_float=float(Loki_hits)\n",
        "loki_shots_float=float(loki_shots)\n",
        "loki_accuracy=(loki_hits_float/loki_shots_float)*100\n",
        "print(f\"loki's accuracy:{loki_accuracy:.2f}%\")"
      ]
    },
    {
      "cell_type": "markdown",
      "metadata": {
        "id": "bC0DS2oCqq_H"
      },
      "source": [
        "**HOMEWORK**\n",
        "\n",
        "D).Thor's hammer weight is 5000(int) but you need to calculate the gravitational force which requires it as a float"
      ]
    },
    {
      "cell_type": "code",
      "execution_count": null,
      "metadata": {
        "colab": {
          "base_uri": "https://localhost:8080/"
        },
        "id": "LW2wzz4XpAKV",
        "outputId": "77c2cd66-0e75-4de4-bb00-fc8e1105d2a6"
      },
      "outputs": [
        {
          "output_type": "stream",
          "name": "stdout",
          "text": [
            "9800.0\n"
          ]
        }
      ],
      "source": [
        "wt_hammer=1000\n",
        "g_force=(float(wt_hammer)*9.8)\n",
        "print(g_force)"
      ]
    },
    {
      "cell_type": "markdown",
      "metadata": {
        "id": "IY7p8uVKpJfs"
      },
      "source": [
        "# **Object Referencing in Python** is the concept in which two variables have same values to point.\n",
        "Garbage is some value assigned to variable when the variable is assigned to another new variable.Python manages garbage automatically.\n",
        "\n",
        "note:Reassigning doesn't effect the variable values until explicitely changed."
      ]
    },
    {
      "cell_type": "code",
      "execution_count": null,
      "metadata": {
        "colab": {
          "base_uri": "https://localhost:8080/"
        },
        "id": "FM4eSBPSpWtI",
        "outputId": "a8ef72d4-9e40-4053-fc1e-581e7534f040"
      },
      "outputs": [
        {
          "output_type": "stream",
          "name": "stdout",
          "text": [
            "ashish\n",
            "ashish\n",
            "ashish\n",
            "5\n",
            "Kumar\n"
          ]
        }
      ],
      "source": [
        "x=\"ashish\"\n",
        "y=x\n",
        "print(y)\n",
        "print(x)\n",
        "x=5\n",
        "print(y)\n",
        "print(x)\n",
        "y=\"Kumar\"\n",
        "print(y)"
      ]
    },
    {
      "cell_type": "markdown",
      "metadata": {
        "id": "gDnInvyLq1pZ"
      },
      "source": [
        "Python variables hold references to  objects, not the actual object themselve."
      ]
    },
    {
      "cell_type": "code",
      "execution_count": null,
      "metadata": {
        "colab": {
          "base_uri": "https://localhost:8080/"
        },
        "id": "yk2-t7njq7at",
        "outputId": "02d02fac-8d05-471f-b9e5-be42f7ca429f"
      },
      "outputs": [
        {
          "output_type": "stream",
          "name": "stdout",
          "text": [
            "[1, 2, 3, 4]\n"
          ]
        }
      ],
      "source": [
        "a=[1,2,3]\n",
        "b=a\n",
        "a.append(4)\n",
        "print(b)"
      ]
    },
    {
      "cell_type": "markdown",
      "metadata": {
        "id": "SmCguVaLsGuV"
      },
      "source": [
        "Reassining a variable doesn't affect the other variables referencing the same object unless explicitely updated."
      ]
    },
    {
      "cell_type": "code",
      "execution_count": 1,
      "metadata": {
        "colab": {
          "base_uri": "https://localhost:8080/"
        },
        "id": "G92jWA-aryv3",
        "outputId": "292f0871-c6da-4fef-dfa1-461a427f00f4"
      },
      "outputs": [
        {
          "output_type": "stream",
          "name": "stdout",
          "text": [
            "[1, 2, 3]\n",
            "a: [1, 2, 3]\n",
            "b: [4, 5, 6]\n",
            "[1, 2, 3]\n"
          ]
        }
      ],
      "source": [
        "a=[1,2,3]\n",
        "b=a\n",
        "print(b)\n",
        "b=[4,5,6]\n",
        "print(\"a:\",a)\n",
        "print(\"b:\",b)\n",
        "# del a is used to free up the memory used by variable\n",
        "\n",
        "print(a)"
      ]
    },
    {
      "cell_type": "code",
      "execution_count": null,
      "metadata": {
        "colab": {
          "base_uri": "https://localhost:8080/"
        },
        "id": "sCsHOJ7hsoi2",
        "outputId": "069060f2-d792-4c32-98d1-b193c8e82208"
      },
      "outputs": [
        {
          "output_type": "stream",
          "name": "stdout",
          "text": [
            "Original Shield stored: ['vibranium', 'round']\n",
            "Wolverine changes the shield material\n",
            "new shield is: ['adamantium', 'round']\n"
          ]
        }
      ],
      "source": [
        "Shield=[\"vibranium\",\"round\"]\n",
        "copy_shield=Shield\n",
        "print(\"Original Shield stored:\",Shield)\n",
        "print(\"Wolverine changes the shield material\")\n",
        "copy_shield[0]=\"adamantium\"\n",
        "print(\"new shield is:\",Shield)"
      ]
    },
    {
      "cell_type": "markdown",
      "metadata": {
        "id": "pEG0a1jxrxMq"
      },
      "source": [
        "Q).a=[81,82,83],b=[81,82,83]\n",
        "print(a is b)\n",
        "print(a==b)"
      ]
    },
    {
      "cell_type": "code",
      "execution_count": null,
      "metadata": {
        "colab": {
          "base_uri": "https://localhost:8080/"
        },
        "id": "uR8rcwxDvRDQ",
        "outputId": "800a2f88-a0cd-4eb5-ee20-dc1bae71f410"
      },
      "outputs": [
        {
          "output_type": "stream",
          "name": "stdout",
          "text": [
            "False\n",
            "True\n"
          ]
        }
      ],
      "source": [
        "a=[81,82,83]\n",
        "b=[81,82,83]\n",
        "print(a is b)\n",
        "print(a==b)"
      ]
    },
    {
      "cell_type": "code",
      "execution_count": null,
      "metadata": {
        "colab": {
          "base_uri": "https://localhost:8080/"
        },
        "id": "zg106b_w74ee",
        "outputId": "e30edb74-b4dd-49d3-f5f1-e7d954df3c1f"
      },
      "outputs": [
        {
          "output_type": "stream",
          "name": "stdout",
          "text": [
            "hello\n",
            "Outside local scope: hello\n"
          ]
        }
      ],
      "source": [
        "msg1=\"hello\"\n",
        "def greet():\n",
        "  msg=\"hello\"\n",
        "  print(msg)\n",
        "\n",
        "greet()\n",
        "print(\"Outside local scope:\", msg1)\n"
      ]
    },
    {
      "cell_type": "code",
      "source": [
        "msg1=\"hello\"\n",
        "def greet():\n",
        "  msg=\"hello\"\n",
        "  print(msg)\n",
        "\n",
        "greet()\n",
        "print(\"Outside local scope:\", msg1)"
      ],
      "metadata": {
        "colab": {
          "base_uri": "https://localhost:8080/"
        },
        "id": "U8W90Lhj9gY4",
        "outputId": "738de6fb-736c-4419-8aeb-02e6b18152a1"
      },
      "execution_count": null,
      "outputs": [
        {
          "output_type": "stream",
          "name": "stdout",
          "text": [
            "hello\n",
            "Outside local scope: hello\n"
          ]
        }
      ]
    },
    {
      "cell_type": "markdown",
      "source": [
        "Datatypes are"
      ],
      "metadata": {
        "id": "1wrlnWmk9sA8"
      }
    },
    {
      "cell_type": "code",
      "source": [
        "list1=[\"1\",2,\"cummins\"]\n",
        "print(list1)"
      ],
      "metadata": {
        "colab": {
          "base_uri": "https://localhost:8080/"
        },
        "id": "qI3HV3AgAN85",
        "outputId": "83cba6d6-e44d-4410-8328-7d6ec2fa1506"
      },
      "execution_count": null,
      "outputs": [
        {
          "output_type": "stream",
          "name": "stdout",
          "text": [
            "['1', 2, 'cummins']\n"
          ]
        }
      ]
    },
    {
      "cell_type": "code",
      "source": [
        "X=\"hEllo\"\n",
        "X.upper()\n"
      ],
      "metadata": {
        "colab": {
          "base_uri": "https://localhost:8080/",
          "height": 36
        },
        "id": "RQ29LFRlDYs9",
        "outputId": "88702279-8f48-4e17-a3ff-fa1a106d397e"
      },
      "execution_count": null,
      "outputs": [
        {
          "output_type": "execute_result",
          "data": {
            "text/plain": [
              "'hello'"
            ],
            "application/vnd.google.colaboratory.intrinsic+json": {
              "type": "string"
            }
          },
          "metadata": {},
          "execution_count": 91
        }
      ]
    },
    {
      "cell_type": "code",
      "source": [],
      "metadata": {
        "id": "UBzecJowG9cA"
      },
      "execution_count": null,
      "outputs": []
    },
    {
      "cell_type": "code",
      "source": [
        "X.lower()"
      ],
      "metadata": {
        "colab": {
          "base_uri": "https://localhost:8080/",
          "height": 36
        },
        "id": "fivsg9XzE9-7",
        "outputId": "0ccbd02d-327f-4c9a-f351-bd11df36ac5e"
      },
      "execution_count": null,
      "outputs": [
        {
          "output_type": "execute_result",
          "data": {
            "text/plain": [
              "'hello'"
            ],
            "application/vnd.google.colaboratory.intrinsic+json": {
              "type": "string"
            }
          },
          "metadata": {},
          "execution_count": 93
        }
      ]
    },
    {
      "cell_type": "code",
      "source": [
        "X.title()"
      ],
      "metadata": {
        "colab": {
          "base_uri": "https://localhost:8080/",
          "height": 36
        },
        "id": "kFMqyH4HFCKL",
        "outputId": "756ce9de-3b8e-47c2-a3f7-431e721fbb9b"
      },
      "execution_count": null,
      "outputs": [
        {
          "output_type": "execute_result",
          "data": {
            "text/plain": [
              "'Hello'"
            ],
            "application/vnd.google.colaboratory.intrinsic+json": {
              "type": "string"
            }
          },
          "metadata": {},
          "execution_count": 94
        }
      ]
    },
    {
      "cell_type": "code",
      "source": [
        "X[1:4]"
      ],
      "metadata": {
        "colab": {
          "base_uri": "https://localhost:8080/",
          "height": 36
        },
        "id": "Y65B4DGfFFC4",
        "outputId": "bdc602c3-ba86-430f-8977-9ef49d1e08a6"
      },
      "execution_count": null,
      "outputs": [
        {
          "output_type": "execute_result",
          "data": {
            "text/plain": [
              "'Ell'"
            ],
            "application/vnd.google.colaboratory.intrinsic+json": {
              "type": "string"
            }
          },
          "metadata": {},
          "execution_count": 95
        }
      ]
    },
    {
      "cell_type": "code",
      "source": [
        "X.replace('o','O')"
      ],
      "metadata": {
        "colab": {
          "base_uri": "https://localhost:8080/",
          "height": 36
        },
        "id": "E_CBkSirFICC",
        "outputId": "f4f8c586-61e7-4b3e-be1e-c0e13b2326dc"
      },
      "execution_count": null,
      "outputs": [
        {
          "output_type": "execute_result",
          "data": {
            "text/plain": [
              "'hEllO'"
            ],
            "application/vnd.google.colaboratory.intrinsic+json": {
              "type": "string"
            }
          },
          "metadata": {},
          "execution_count": 96
        }
      ]
    },
    {
      "cell_type": "code",
      "source": [
        "X.swapcase()"
      ],
      "metadata": {
        "colab": {
          "base_uri": "https://localhost:8080/",
          "height": 36
        },
        "id": "rV_p-zkdFO3s",
        "outputId": "4a91316a-e89c-48b0-f30c-524cef94181f"
      },
      "execution_count": null,
      "outputs": [
        {
          "output_type": "execute_result",
          "data": {
            "text/plain": [
              "'HeLLO'"
            ],
            "application/vnd.google.colaboratory.intrinsic+json": {
              "type": "string"
            }
          },
          "metadata": {},
          "execution_count": 97
        }
      ]
    },
    {
      "cell_type": "code",
      "source": [
        "X.capitalize()"
      ],
      "metadata": {
        "colab": {
          "base_uri": "https://localhost:8080/",
          "height": 36
        },
        "id": "cekF7YJtFTOZ",
        "outputId": "7eb61700-b32b-4b82-a276-e7bc0dd66bab"
      },
      "execution_count": null,
      "outputs": [
        {
          "output_type": "execute_result",
          "data": {
            "text/plain": [
              "'Hello'"
            ],
            "application/vnd.google.colaboratory.intrinsic+json": {
              "type": "string"
            }
          },
          "metadata": {},
          "execution_count": 98
        }
      ]
    },
    {
      "cell_type": "code",
      "source": [
        "X.count('l')"
      ],
      "metadata": {
        "colab": {
          "base_uri": "https://localhost:8080/"
        },
        "id": "2HFDnrLzFWbq",
        "outputId": "4c4af9b0-654c-461c-ac4b-3eb9c9d3553d"
      },
      "execution_count": null,
      "outputs": [
        {
          "output_type": "execute_result",
          "data": {
            "text/plain": [
              "2"
            ]
          },
          "metadata": {},
          "execution_count": 106
        }
      ]
    },
    {
      "cell_type": "code",
      "source": [
        "X.casefold()"
      ],
      "metadata": {
        "colab": {
          "base_uri": "https://localhost:8080/",
          "height": 36
        },
        "id": "2CCv_NIEF2bf",
        "outputId": "749358a2-1b48-4114-fa38-175e99f481ea"
      },
      "execution_count": null,
      "outputs": [
        {
          "output_type": "execute_result",
          "data": {
            "text/plain": [
              "'hello'"
            ],
            "application/vnd.google.colaboratory.intrinsic+json": {
              "type": "string"
            }
          },
          "metadata": {},
          "execution_count": 107
        }
      ]
    },
    {
      "cell_type": "code",
      "source": [
        "X.center( 50 )"
      ],
      "metadata": {
        "colab": {
          "base_uri": "https://localhost:8080/",
          "height": 36
        },
        "id": "2UjMkEd5F69w",
        "outputId": "2e2ad12b-8977-49c9-a57f-79d603889435"
      },
      "execution_count": null,
      "outputs": [
        {
          "output_type": "execute_result",
          "data": {
            "text/plain": [
              "'                      hEllo                       '"
            ],
            "application/vnd.google.colaboratory.intrinsic+json": {
              "type": "string"
            }
          },
          "metadata": {},
          "execution_count": 111
        }
      ]
    },
    {
      "cell_type": "markdown",
      "source": [
        "**Datatype in Python**"
      ],
      "metadata": {
        "id": "3QzgRzFTbTVS"
      }
    },
    {
      "cell_type": "markdown",
      "source": [
        "1.int- used for categorical encoding,,idsone hot indexing and token ids in NLP(Natural Language Processing).\n",
        "\n",
        "2>Float:represents real world value data like features,prediction,gradients and weights.\n",
        "\n",
        "3>Complex: used in signal processing,audio and image analysis,spectral methods such as FFT in EEG\n",
        "\n",
        "4>Float32/Float64:standard in deep learning frameworks like Pytorch and tensorflow to balance decision and memory usage\n",
        "\n",
        "5>int32/int64:useful for labels,indexing arrays/Tensor and specifying sequence length in NLP(Natural Language Processing)."
      ],
      "metadata": {
        "id": "oJY5KNmfbQ28"
      }
    },
    {
      "cell_type": "code",
      "source": [
        "power_levels=[86,92.5,75,88.0,91]\n",
        "sumattion=sum(power_levels)\n",
        "length=len(power_levels)\n",
        "if power_levels:\n",
        " average=round(sumattion/length,2)\n",
        "else:\n",
        "  average=0\n",
        "print(average)"
      ],
      "metadata": {
        "id": "NSL2h8eabgX0"
      },
      "execution_count": null,
      "outputs": []
    },
    {
      "cell_type": "markdown",
      "source": [
        "**INTERVIEW TIP;**\n",
        "\n",
        "Never underestimate input validation.An empty list or incorrect data in a list can collapse your algorithm."
      ],
      "metadata": {
        "id": "6m1C6mh8blGy"
      }
    },
    {
      "cell_type": "code",
      "source": [
        "import statistics\n",
        "power_level={\"Iron Man\":90,\"Hulk\":100}\n",
        "avg_level=statistics.mean(power_level.values())\n",
        "print(avg_level)"
      ],
      "metadata": {
        "id": "cH-r8IXmbrrP"
      },
      "execution_count": null,
      "outputs": []
    },
    {
      "cell_type": "markdown",
      "source": [
        "**INTERVIEW TIPS **\n",
        "\n",
        "1).Dictionary is best when data can be mapped.List work when order or sequence matters\n",
        "\n",
        "2).Efficiency:compute the averages in one pass using built in functions or libraries(keep th time complexity in mind)."
      ],
      "metadata": {
        "id": "ur0E9OTCbs0F"
      }
    },
    {
      "cell_type": "markdown",
      "source": [
        "Q).1 write a python program to find the largest and lowest number in a list\n",
        "\n",
        "\n",
        "\n"
      ],
      "metadata": {
        "id": "3OVqIAa1b2uI"
      }
    },
    {
      "cell_type": "code",
      "source": [
        "num=[4,7,1,9,12,3]\n",
        "min=num[0]\n",
        "max=num[0]\n",
        "for n in num:\n",
        "  if n < min:\n",
        "      min=n\n",
        "  if n > max:\n",
        "      max=n\n",
        "print(f\"max is{max} and min is {min}\")#Printing variable with string"
      ],
      "metadata": {
        "id": "XGqf8J5ab8S5"
      },
      "execution_count": null,
      "outputs": []
    },
    {
      "cell_type": "markdown",
      "source": [
        "Q).2 you need to rotate the list to the right by k steps?\n",
        "\n"
      ],
      "metadata": {
        "id": "aJ3focK0cN2f"
      }
    },
    {
      "cell_type": "code",
      "source": [
        "num=[1,2,3,4,5]\n",
        "k=input(\"no of positions to rotate\")\n",
        "k=int(k)\n",
        "k =k % len(num)\n",
        "rotated=num[-k:]+num[:-k]#+operator concatenates two slices\n",
        "print(rotated)"
      ],
      "metadata": {
        "id": "f0BjGj-ncgZP",
        "colab": {
          "base_uri": "https://localhost:8080/"
        },
        "outputId": "99265fd4-c191-4e47-d79b-0f49ec767c4f"
      },
      "execution_count": 3,
      "outputs": [
        {
          "output_type": "stream",
          "name": "stdout",
          "text": [
            "no of positions to rotate3\n",
            "[3, 4, 5, 1, 2]\n"
          ]
        }
      ]
    },
    {
      "cell_type": "markdown",
      "source": [
        "**Concatenation of Strings**"
      ],
      "metadata": {
        "id": "3c2b--bSwyv4"
      }
    },
    {
      "cell_type": "code",
      "source": [
        "first_name=input(\"Enter your first name:\")\n",
        "last_name=input(\"Enter your last name:\")\n",
        "full_name=first_name+\" \"+last_name #+ is concatenation operator\n",
        "print(full_name)"
      ],
      "metadata": {
        "colab": {
          "base_uri": "https://localhost:8080/"
        },
        "id": "Nf3dcsfEw3_q",
        "outputId": "74ceadec-149a-4df6-c8d0-489fb36f7ff8"
      },
      "execution_count": null,
      "outputs": [
        {
          "output_type": "stream",
          "name": "stdout",
          "text": [
            "Enter your first name:Ashish\n",
            "Enter your last name:Kumar\n",
            "Ashish Kumar\n"
          ]
        }
      ]
    },
    {
      "cell_type": "markdown",
      "source": [
        "**printing two line using escape character in single print statement**"
      ],
      "metadata": {
        "id": "SOVp0zFtxxIx"
      }
    },
    {
      "cell_type": "code",
      "source": [
        "print(\"My name is Ashish Kumar\\nand I am from Bihar.\") #\\n is used to insert new line\n",
        "print(\"Ashish\\tKumar\")#\\t is used to give sapce/tab.\n",
        "print(\"The file path is C:\\\\Users\\\\Name\")\n",
        "# Output: The file path is C:\\Users\\Name.\n",
        "print(\"He said, \\\"I want to eat an apple\\\".\")\n",
        "\n",
        "receipe = \"\"\"\n",
        "1. Heat the pan and add oil\n",
        "2. Crack the egg\n",
        "3. Add salt in egg and mix well\n",
        "4. Pour the mixture in pan\n",
        "5. Fry on medium heat\n",
        "\"\"\"\n",
        "print(receipe)"
      ],
      "metadata": {
        "colab": {
          "base_uri": "https://localhost:8080/"
        },
        "id": "8F7ZxLV7yD-Q",
        "outputId": "403fc423-29ec-4772-a4df-7096cdef6f4d"
      },
      "execution_count": null,
      "outputs": [
        {
          "output_type": "stream",
          "name": "stdout",
          "text": [
            "My name is Ashish Kumar\n",
            "and I am from Bihar.\n",
            "Ashish\tKumar\n",
            "The file path is C:\\Users\\Name\n",
            "He said, \"I want to eat an apple\".\n",
            "\n",
            "1. Heat the pan and add oil\n",
            "2. Crack the egg\n",
            "3. Add salt in egg and mix well\n",
            "4. Pour the mixture in pan\n",
            "5. Fry on medium heat\n",
            "\n"
          ]
        }
      ]
    },
    {
      "cell_type": "markdown",
      "source": [
        "**Length of a String**"
      ],
      "metadata": {
        "id": "tqnuEMYR1Z-R"
      }
    },
    {
      "cell_type": "code",
      "source": [
        "name=\"Ashish\"\n",
        "length=len(name)\n",
        "print(length)\n",
        "\n",
        "#indexing from first start from 0\n",
        "print(name[2])#String as an Array\n",
        "print(name[:5])\n",
        "print(name[1:3])\n",
        "\n",
        "#indexing from backward starts from -1\n",
        "print(name[-1:])\n",
        "print(name[-3:])\n",
        "print(name[:-3])"
      ],
      "metadata": {
        "colab": {
          "base_uri": "https://localhost:8080/"
        },
        "id": "BrWt9qxd1eZL",
        "outputId": "4228eb2c-18a7-4db4-b76b-0e5854e33145"
      },
      "execution_count": null,
      "outputs": [
        {
          "output_type": "stream",
          "name": "stdout",
          "text": [
            "6\n",
            "h\n",
            "Ashis\n",
            "sh\n",
            "h\n",
            "ish\n",
            "Ash\n"
          ]
        }
      ]
    },
    {
      "cell_type": "markdown",
      "source": [
        "**Loop through a String**"
      ],
      "metadata": {
        "id": "hnFPAV8R2viJ"
      }
    },
    {
      "cell_type": "code",
      "source": [
        "alphabets = \"ABCDE\"\n",
        "for i in alphabets:\n",
        "    print(i)"
      ],
      "metadata": {
        "colab": {
          "base_uri": "https://localhost:8080/"
        },
        "id": "8bCqAe4_20hs",
        "outputId": "c3fa69ad-fb00-4e4b-89c5-8c7ccc723abd"
      },
      "execution_count": null,
      "outputs": [
        {
          "output_type": "stream",
          "name": "stdout",
          "text": [
            "A\n",
            "B\n",
            "C\n",
            "D\n",
            "E\n"
          ]
        }
      ]
    },
    {
      "cell_type": "markdown",
      "source": [
        "**String Methods**"
      ],
      "metadata": {
        "id": "3LVni591WwVP"
      }
    },
    {
      "cell_type": "code",
      "source": [
        "x=\" Ashish\"\n",
        "print(x.capitalize())\n",
        "print(x.casefold())\n",
        "print(x.center(10,\".\"))\n",
        "print(x.encode())\n",
        "print(x.swapcase())\n",
        "print(x.islower())\n",
        "print(x.isupper())\n",
        "print(x.isalpha())"
      ],
      "metadata": {
        "colab": {
          "base_uri": "https://localhost:8080/"
        },
        "id": "90HeARNVWzu7",
        "outputId": "9c8ffe5b-a739-41e3-ef6a-66e347664a18"
      },
      "execution_count": 23,
      "outputs": [
        {
          "output_type": "stream",
          "name": "stdout",
          "text": [
            " ashish\n",
            " ashish\n",
            ". Ashish..\n",
            "b' Ashish'\n",
            " aSHISH\n",
            "False\n",
            "False\n",
            "False\n"
          ]
        }
      ]
    }
  ],
  "metadata": {
    "colab": {
      "provenance": [],
      "authorship_tag": "ABX9TyOpl4HVbkap9cQQxvl8Noqp",
      "include_colab_link": true
    },
    "kernelspec": {
      "display_name": "Python 3",
      "name": "python3"
    },
    "language_info": {
      "name": "python"
    }
  },
  "nbformat": 4,
  "nbformat_minor": 0
}