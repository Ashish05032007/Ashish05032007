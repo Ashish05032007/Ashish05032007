{
  "nbformat": 4,
  "nbformat_minor": 0,
  "metadata": {
    "colab": {
      "provenance": [],
      "authorship_tag": "ABX9TyOLiEz/9jo2B5KqLJaoUOeg",
      "include_colab_link": true
    },
    "kernelspec": {
      "name": "python3",
      "display_name": "Python 3"
    },
    "language_info": {
      "name": "python"
    }
  },
  "cells": [
    {
      "cell_type": "markdown",
      "metadata": {
        "id": "view-in-github",
        "colab_type": "text"
      },
      "source": [
        "<a href=\"https://colab.research.google.com/github/Ashish05032007/Ashish05032007/blob/main/lab2.ipynb\" target=\"_parent\"><img src=\"https://colab.research.google.com/assets/colab-badge.svg\" alt=\"Open In Colab\"/></a>"
      ]
    },
    {
      "cell_type": "markdown",
      "source": [
        "1).create a python program that implements the conditional statement to check the following:\n",
        "\n",
        "    if the user is below 18 print \"you are minor\n",
        "    if older than 18 and younger than 65 print \"you are adult\"\n",
        "    if user is older than 65 print \"you are senior\"\n",
        " also check the invalid condition"
      ],
      "metadata": {
        "id": "n69AoCTRqDps"
      }
    },
    {
      "cell_type": "code",
      "execution_count": null,
      "metadata": {
        "colab": {
          "base_uri": "https://localhost:8080/"
        },
        "id": "uGCQM1Kkp5Bd",
        "outputId": "cfe88f02-3f92-4a83-f040-23f3ed21c2a3"
      },
      "outputs": [
        {
          "output_type": "stream",
          "name": "stdout",
          "text": [
            "you are senior\n",
            "you are adult\n",
            "you are adult\n",
            "invalid condition\n",
            "invalid condition\n"
          ]
        }
      ],
      "source": [
        "age=[75,36,43,\"Ashish\",78.00]\n",
        "\n",
        "for i in range(len(age)):\n",
        "  if(type(age[i])==int):\n",
        "    if(age[i]<18):\n",
        "      print(\"you are minor\")\n",
        "    elif(age[i]>=18 and age[i]<65):\n",
        "      print(\"you are adult\")\n",
        "    elif(age[i]>=65):\n",
        "      print(\"you are senior\")\n",
        "  else:\n",
        "    print(\"invalid condition\")\n"
      ]
    },
    {
      "cell_type": "markdown",
      "source": [
        "2).Write a Python program that generates a multiplication table for number 1-12, use the nested loops to display the table in a well formated way\n",
        "\n"
      ],
      "metadata": {
        "id": "UUHH5z1owk_a"
      }
    },
    {
      "cell_type": "code",
      "source": [
        "for i in range(1,13):\n",
        "  for j in range(1,11):\n",
        "    print(i,\"*\",j,\"=\", i*j)\n",
        "  print(\"Table of:\",i)\n"
      ],
      "metadata": {
        "id": "Z-H3jQpTwoRJ",
        "colab": {
          "base_uri": "https://localhost:8080/"
        },
        "outputId": "8a5c792e-2dae-41d5-f763-12035be464ed"
      },
      "execution_count": null,
      "outputs": [
        {
          "output_type": "stream",
          "name": "stdout",
          "text": [
            "1 * 1 = 1\n",
            "1 * 2 = 2\n",
            "1 * 3 = 3\n",
            "1 * 4 = 4\n",
            "1 * 5 = 5\n",
            "1 * 6 = 6\n",
            "1 * 7 = 7\n",
            "1 * 8 = 8\n",
            "1 * 9 = 9\n",
            "1 * 10 = 10\n",
            "Table of: 1\n",
            "2 * 1 = 2\n",
            "2 * 2 = 4\n",
            "2 * 3 = 6\n",
            "2 * 4 = 8\n",
            "2 * 5 = 10\n",
            "2 * 6 = 12\n",
            "2 * 7 = 14\n",
            "2 * 8 = 16\n",
            "2 * 9 = 18\n",
            "2 * 10 = 20\n",
            "Table of: 2\n",
            "3 * 1 = 3\n",
            "3 * 2 = 6\n",
            "3 * 3 = 9\n",
            "3 * 4 = 12\n",
            "3 * 5 = 15\n",
            "3 * 6 = 18\n",
            "3 * 7 = 21\n",
            "3 * 8 = 24\n",
            "3 * 9 = 27\n",
            "3 * 10 = 30\n",
            "Table of: 3\n",
            "4 * 1 = 4\n",
            "4 * 2 = 8\n",
            "4 * 3 = 12\n",
            "4 * 4 = 16\n",
            "4 * 5 = 20\n",
            "4 * 6 = 24\n",
            "4 * 7 = 28\n",
            "4 * 8 = 32\n",
            "4 * 9 = 36\n",
            "4 * 10 = 40\n",
            "Table of: 4\n",
            "5 * 1 = 5\n",
            "5 * 2 = 10\n",
            "5 * 3 = 15\n",
            "5 * 4 = 20\n",
            "5 * 5 = 25\n",
            "5 * 6 = 30\n",
            "5 * 7 = 35\n",
            "5 * 8 = 40\n",
            "5 * 9 = 45\n",
            "5 * 10 = 50\n",
            "Table of: 5\n",
            "6 * 1 = 6\n",
            "6 * 2 = 12\n",
            "6 * 3 = 18\n",
            "6 * 4 = 24\n",
            "6 * 5 = 30\n",
            "6 * 6 = 36\n",
            "6 * 7 = 42\n",
            "6 * 8 = 48\n",
            "6 * 9 = 54\n",
            "6 * 10 = 60\n",
            "Table of: 6\n",
            "7 * 1 = 7\n",
            "7 * 2 = 14\n",
            "7 * 3 = 21\n",
            "7 * 4 = 28\n",
            "7 * 5 = 35\n",
            "7 * 6 = 42\n",
            "7 * 7 = 49\n",
            "7 * 8 = 56\n",
            "7 * 9 = 63\n",
            "7 * 10 = 70\n",
            "Table of: 7\n",
            "8 * 1 = 8\n",
            "8 * 2 = 16\n",
            "8 * 3 = 24\n",
            "8 * 4 = 32\n",
            "8 * 5 = 40\n",
            "8 * 6 = 48\n",
            "8 * 7 = 56\n",
            "8 * 8 = 64\n",
            "8 * 9 = 72\n",
            "8 * 10 = 80\n",
            "Table of: 8\n",
            "9 * 1 = 9\n",
            "9 * 2 = 18\n",
            "9 * 3 = 27\n",
            "9 * 4 = 36\n",
            "9 * 5 = 45\n",
            "9 * 6 = 54\n",
            "9 * 7 = 63\n",
            "9 * 8 = 72\n",
            "9 * 9 = 81\n",
            "9 * 10 = 90\n",
            "Table of: 9\n",
            "10 * 1 = 10\n",
            "10 * 2 = 20\n",
            "10 * 3 = 30\n",
            "10 * 4 = 40\n",
            "10 * 5 = 50\n",
            "10 * 6 = 60\n",
            "10 * 7 = 70\n",
            "10 * 8 = 80\n",
            "10 * 9 = 90\n",
            "10 * 10 = 100\n",
            "Table of: 10\n",
            "11 * 1 = 11\n",
            "11 * 2 = 22\n",
            "11 * 3 = 33\n",
            "11 * 4 = 44\n",
            "11 * 5 = 55\n",
            "11 * 6 = 66\n",
            "11 * 7 = 77\n",
            "11 * 8 = 88\n",
            "11 * 9 = 99\n",
            "11 * 10 = 110\n",
            "Table of: 11\n",
            "12 * 1 = 12\n",
            "12 * 2 = 24\n",
            "12 * 3 = 36\n",
            "12 * 4 = 48\n",
            "12 * 5 = 60\n",
            "12 * 6 = 72\n",
            "12 * 7 = 84\n",
            "12 * 8 = 96\n",
            "12 * 9 = 108\n",
            "12 * 10 = 120\n",
            "Table of: 12\n"
          ]
        }
      ]
    },
    {
      "cell_type": "markdown",
      "source": [
        "3).Write a program to validate the password based on the following criteria:\n",
        "  i).minimum 8 characters\n",
        "  ii).Atleast a uppercase\n",
        "  iii)atleast one lowercase\n",
        "   iv).atleast one special characters\n",
        " Constraint:using While loops"
      ],
      "metadata": {
        "id": "qboLW5c1woqZ"
      }
    },
    {
      "cell_type": "code",
      "source": [
        "def is_valid(password):\n",
        "    has_upper = False\n",
        "    has_lower = False\n",
        "    has_special = False\n",
        "    special_chars = \"!@#$%^&*()-_=+[{]}\\|;:'\\\",<.>/?`~\"\n",
        "\n",
        "    i = 0\n",
        "    while i < len(password):\n",
        "        char = password[i]\n",
        "        if char.isupper():\n",
        "            has_upper = True\n",
        "        elif char.islower():\n",
        "            has_lower = True\n",
        "        elif char in special_chars:\n",
        "            has_special = True\n",
        "        i += 1\n",
        "\n",
        "    return len(password) >= 8 and has_upper and has_lower and has_special\n",
        "\n",
        "# Main loop to prompt user until valid password is entered\n",
        "while True:\n",
        "    pwd = input(\"Enter your password: \")\n",
        "    if is_valid(pwd):\n",
        "        print(\"✅ Password is valid!\")\n",
        "        break\n",
        "    else:\n",
        "        print(\"❌ Invalid password. Make sure it has:\")\n",
        "        print(\"- At least 8 characters\")\n",
        "        print(\"- At least one uppercase letter\")\n",
        "        print(\"- At least one lowercase letter\")\n",
        "        print(\"- At least one special character\")"
      ],
      "metadata": {
        "colab": {
          "base_uri": "https://localhost:8080/"
        },
        "id": "fgHSXQ7Flq_m",
        "outputId": "7b77163c-0675-4af2-a0bd-fe46d5e7202d"
      },
      "execution_count": null,
      "outputs": [
        {
          "output_type": "stream",
          "name": "stderr",
          "text": [
            "<>:5: SyntaxWarning: invalid escape sequence '\\|'\n",
            "<>:5: SyntaxWarning: invalid escape sequence '\\|'\n",
            "/tmp/ipython-input-1032369562.py:5: SyntaxWarning: invalid escape sequence '\\|'\n",
            "  special_chars = \"!@#$%^&*()-_=+[{]}\\|;:'\\\",<.>/?`~\"\n"
          ]
        },
        {
          "output_type": "stream",
          "name": "stdout",
          "text": [
            "Enter your password: Ashish123#\n",
            "✅ Password is valid!\n"
          ]
        }
      ]
    }
  ]
}